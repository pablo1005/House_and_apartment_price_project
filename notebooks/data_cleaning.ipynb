{
 "cells": [
  {
   "cell_type": "code",
   "execution_count": 1,
   "metadata": {},
   "outputs": [],
   "source": [
    "import pandas as pd\n",
    "import re\n",
    "import unidecode"
   ]
  },
  {
   "cell_type": "code",
   "execution_count": 2,
   "metadata": {},
   "outputs": [],
   "source": [
    "# 1) Upload CSV file containing scraped raw data (web_scraping.ipynb).\n",
    "\n",
    "# Specifies directory path where CSV file is located.\n",
    "directory = 'C:/Users/DAV/Documents/Python/Python_Project/House_price_project/data/raw/'\n",
    "\n",
    "# Define file name.\n",
    "filename = 'raw-data.csv'  \n",
    "\n",
    "# Build full file path.\n",
    "file_path = directory + filename\n",
    "\n",
    "# Upload the CSV file using constructed path.\n",
    "df = pd.read_csv(file_path)"
   ]
  },
  {
   "cell_type": "code",
   "execution_count": 3,
   "metadata": {},
   "outputs": [],
   "source": [
    "# 2) Replace NaN with 0. \n",
    "df['square_meters'] = df['square_meters'].fillna(0)\n",
    "df['rooms'] = df['rooms'].fillna(0)\n",
    "df['parking'] = df['parking'].fillna(0)\n",
    "df['baths'] = df['baths'].fillna(0)"
   ]
  },
  {
   "cell_type": "code",
   "execution_count": 4,
   "metadata": {},
   "outputs": [],
   "source": [
    "# 3) Convert columns to integers.\n",
    "df['square_meters'] = df['square_meters'].astype(int)\n",
    "df['rooms'] = df['rooms'].astype(int)\n",
    "df['parking'] = df['parking'].astype(int)\n",
    "df['baths'] = df['baths'].astype(int)"
   ]
  },
  {
   "cell_type": "code",
   "execution_count": 5,
   "metadata": {},
   "outputs": [],
   "source": [
    "# 4) Function created to remove duplicates and filter data (19 <= square_meters < 600; eliminate rooms < 1).\n",
    "def clean_and_filter_dataframe(df):\n",
    "\n",
    "    # Step 1: Remove duplicates based on specific columns\n",
    "    df.drop_duplicates(subset=['title', 'square_meters', 'rooms', 'parking', 'baths'], inplace=True)\n",
    "    \n",
    "    # Step 2: Filter rows where 'square_meters' is between 19 and 600\n",
    "    df = df[(df['square_meters'] >= 19) & (df['square_meters'] < 600)]\n",
    "    \n",
    "    # Step 3: Keep only rows where 'rooms' > 0\n",
    "    df = df[df['rooms'] > 0]\n",
    "    \n",
    "    # Reset index to maintain DataFrame integrity after filtering\n",
    "    df.reset_index(drop=True, inplace=True)\n",
    "    \n",
    "    return df\n",
    "\n",
    "\n",
    "df = clean_and_filter_dataframe(df)"
   ]
  },
  {
   "cell_type": "code",
   "execution_count": 6,
   "metadata": {},
   "outputs": [],
   "source": [
    "# 5) Convert price to integer, removing symbols (\"[ ]\",\",\"$\",\"Q\") and applying a conversion rate.\n",
    "\n",
    "# Define conversion rate ($ to Q).\n",
    "conversion_rate = 7.8\n",
    "\n",
    "def convert_price(price):\n",
    "    # Remove extra spaces and brackets, and take first value in the list.\n",
    "    price = price.strip(\"[]'\")  # Remove brackets and quotes.\n",
    "\n",
    "    # Check if price is in quetzales or dollars.\n",
    "    if 'Q' in price:\n",
    "        return int(price.replace('Q', '').replace(',', ''))  # Convert to integer.\n",
    "    elif '$' in price:\n",
    "        # Convert price from dollars to quetzales adjustable based on current exchange rate).\n",
    "        usd_value = int(price.replace('$', '').replace(',', ''))  # Convert to integer.\n",
    "        return int(usd_value * conversion_rate)  \n",
    "    else:\n",
    "        return None  # Or handle another way if it is not in the expected format\n",
    "\n",
    "# Apply function and create a new column 'price_in_quetzales'\n",
    "df['price_quetzales'] = df['price'].apply(convert_price)"
   ]
  },
  {
   "cell_type": "code",
   "execution_count": 7,
   "metadata": {},
   "outputs": [],
   "source": [
    "# 6) Normalize text function.\n",
    "def normalize_text(text):\n",
    "    if isinstance(text, str):\n",
    "        text = re.sub(r\"[.,|()*!-/•:?]\", \" \", text)  # Replace \".\", \",\", \"|\", etc. for space.\n",
    "        text = re.sub(r'\\b(zona)\\s*(\\d+)', r'\\1 \\2', text)  # Ensure space between \"zone\" and number.\n",
    "        text = re.sub(r'(\\d+)([a-zA-Z])', r'\\1 \\2', text)  # Space between number and letter.\n",
    "        text = re.sub(r'\\s+', ' ', text).strip()  # Delete multiple spaces.\n",
    "        text = text.lower().replace(\"blvd\", \"boulevard\")  # Replace \"blvd\" to \"boulevard\"\n",
    "        return unidecode.unidecode(text.strip())\n",
    "    return ''  # Return empty string if not a string.\n",
    "\n",
    "# Normalize titles.\n",
    "df['title_normalized'] = df['title'].apply(normalize_text)\n",
    "# Normalize description.\n",
    "df['description_normalized'] = df['adv_description'].apply(normalize_text)\n",
    "# Normalize location.\n",
    "df['location_normalized'] = df['location'].apply(normalize_text)"
   ]
  },
  {
   "cell_type": "code",
   "execution_count": 8,
   "metadata": {},
   "outputs": [],
   "source": [
    "# 7) Define a new column order.\n",
    "new_order = ['title_normalized', 'price_quetzales','square_meters', 'rooms', 'parking', 'baths', 'location_normalized', 'description_normalized']\n",
    "\n",
    "# Rearrange DataFrame according to the new order.\n",
    "df = df[new_order]"
   ]
  },
  {
   "cell_type": "code",
   "execution_count": 9,
   "metadata": {},
   "outputs": [],
   "source": [
    "# 8) Save Clean Data.\n",
    "# Specify directory path.\n",
    "directory = 'C:\\\\Users\\\\DAV\\\\Documents\\\\Python\\\\Python_Project\\\\House_price_project\\\\data\\\\raw\\\\'\n",
    "\n",
    "# Define the file name.\n",
    "filename = 'pre-clean.csv'\n",
    "\n",
    "# Build full file path.\n",
    "output_path = directory + filename\n",
    "\n",
    "# Save DataFrame to an CSV file in the specified directory.\n",
    "df.to_csv(output_path, index=False)"
   ]
  },
  {
   "cell_type": "code",
   "execution_count": null,
   "metadata": {},
   "outputs": [],
   "source": []
  },
  {
   "cell_type": "code",
   "execution_count": null,
   "metadata": {},
   "outputs": [],
   "source": []
  },
  {
   "cell_type": "code",
   "execution_count": null,
   "metadata": {},
   "outputs": [],
   "source": []
  },
  {
   "cell_type": "code",
   "execution_count": null,
   "metadata": {},
   "outputs": [],
   "source": []
  },
  {
   "cell_type": "code",
   "execution_count": null,
   "metadata": {},
   "outputs": [],
   "source": []
  },
  {
   "cell_type": "code",
   "execution_count": null,
   "metadata": {},
   "outputs": [],
   "source": []
  },
  {
   "cell_type": "code",
   "execution_count": null,
   "metadata": {},
   "outputs": [],
   "source": []
  },
  {
   "cell_type": "code",
   "execution_count": null,
   "metadata": {},
   "outputs": [],
   "source": []
  },
  {
   "cell_type": "code",
   "execution_count": null,
   "metadata": {},
   "outputs": [],
   "source": []
  }
 ],
 "metadata": {
  "kernelspec": {
   "display_name": "Python 3",
   "language": "python",
   "name": "python3"
  },
  "language_info": {
   "codemirror_mode": {
    "name": "ipython",
    "version": 3
   },
   "file_extension": ".py",
   "mimetype": "text/x-python",
   "name": "python",
   "nbconvert_exporter": "python",
   "pygments_lexer": "ipython3",
   "version": "3.12.5"
  }
 },
 "nbformat": 4,
 "nbformat_minor": 2
}
