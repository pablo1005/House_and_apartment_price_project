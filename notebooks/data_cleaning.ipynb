{
 "cells": [
  {
   "cell_type": "code",
   "execution_count": 12,
   "metadata": {},
   "outputs": [],
   "source": [
    "import pandas as pd\n",
    "import re\n",
    "import unidecode"
   ]
  },
  {
   "cell_type": "code",
   "execution_count": 18,
   "metadata": {},
   "outputs": [],
   "source": [
    "# 1) Upload CSV file containing scraped raw data (web_scraping.ipynb)\n",
    "df = pd.read_csv(r'C:\\Users\\DAV\\Documents\\Python\\Python_Project\\House_price_project\\data\\raw\\8_1_2024.csv')"
   ]
  },
  {
   "cell_type": "code",
   "execution_count": 19,
   "metadata": {},
   "outputs": [],
   "source": [
    "# 2) Delete first column (unnamed) using its index.\n",
    "df.drop(df.columns[0], axis=1, inplace=True)"
   ]
  },
  {
   "cell_type": "code",
   "execution_count": 20,
   "metadata": {},
   "outputs": [],
   "source": [
    "# 3) Replace NaN with 0. \n",
    "df['square_meters'] = df['square_meters'].fillna(0)\n",
    "df['rooms'] = df['rooms'].fillna(0)\n",
    "df['parking'] = df['parking'].fillna(0)\n",
    "df['baths'] = df['baths'].fillna(0)"
   ]
  },
  {
   "cell_type": "code",
   "execution_count": 21,
   "metadata": {},
   "outputs": [],
   "source": [
    "# 4) Convert columns to integers.\n",
    "df['square_meters'] = df['square_meters'].astype(int)\n",
    "df['rooms'] = df['rooms'].astype(int)\n",
    "df['parking'] = df['parking'].astype(int)\n",
    "df['baths'] = df['baths'].astype(int)"
   ]
  },
  {
   "cell_type": "code",
   "execution_count": 22,
   "metadata": {},
   "outputs": [
    {
     "name": "stdout",
     "output_type": "stream",
     "text": [
      "\n",
      "33 duplicate rows were removed.\n"
     ]
    }
   ],
   "source": [
    "# 5) Delete those records that have similarity in: title, square_meters, rooms, parking and baths.\n",
    "\n",
    "#  Count rows number before removing duplicates.\n",
    "initial_count = df.shape[0]\n",
    "\n",
    "# Remove duplicates considering specified columns.\n",
    "df.drop_duplicates(subset=['title', 'square_meters', 'rooms', 'parking', 'baths'], inplace=True)\n",
    "\n",
    "# Count rows number after removing duplicates.\n",
    "final_count = df.shape[0]\n",
    "\n",
    "# Calculate how many rows were deleted.\n",
    "removed_count = initial_count - final_count\n",
    "\n",
    "# Message about how many rows were deleted.\n",
    "print(f\"\\n{removed_count} duplicate rows were removed.\")"
   ]
  },
  {
   "cell_type": "code",
   "execution_count": 23,
   "metadata": {},
   "outputs": [],
   "source": [
    "# 6) Convert price to integer, removing symbols (\"[ ]\",\",\"$\",\"Q\") and applying a conversion rate.\n",
    "\n",
    "# Define conversion rate ($ to Q).\n",
    "conversion_rate = 7.8\n",
    "\n",
    "def convert_price(price):\n",
    "    # Remove extra spaces and brackets, and take first value in the list.\n",
    "    price = price.strip(\"[]'\")  # Remove brackets and quotes.\n",
    "\n",
    "    # Check if price is in quetzales or dollars.\n",
    "    if 'Q' in price:\n",
    "        return int(price.replace('Q', '').replace(',', ''))  # Convert to integer.\n",
    "    elif '$' in price:\n",
    "        # Convert price from dollars to quetzales adjustable based on current exchange rate).\n",
    "        usd_value = int(price.replace('$', '').replace(',', ''))  # Convert to integer.\n",
    "        return int(usd_value * conversion_rate)  \n",
    "    else:\n",
    "        return None  # Or handle another way if it is not in the expected format\n",
    "\n",
    "# Apply function and create a new column 'price_in_quetzales'\n",
    "df['price_in_quetzales'] = df['price'].apply(convert_price)"
   ]
  },
  {
   "cell_type": "code",
   "execution_count": 42,
   "metadata": {},
   "outputs": [],
   "source": [
    "# 7) Normalize text function.\n",
    "def normalize_text(text):\n",
    "    if isinstance(text, str):\n",
    "        text = re.sub(r\"[.,|()*!-/•:]\", \" \", text)  # Replace \".\", \",\" and \"|\", etc. for space.\n",
    "        text = re.sub(r'\\b(zona)\\s*(\\d+)', r'\\1 \\2', text)  # Ensure space between \"zone\" and number.\n",
    "        text = re.sub(r'(\\d+)([a-zA-Z])', r'\\1 \\2', text)  # Space between number and letter.\n",
    "        text = re.sub(r'\\s+', ' ', text).strip()  # Delete multiple spaces.\n",
    "        text = text.lower().replace(\"blvd\", \"boulevard\")  # Replace \"blvd\" to \"boulevard\"\n",
    "        return unidecode.unidecode(text.strip())\n",
    "    return ''  # Return empty string if not a string.\n",
    "\n",
    "# Normalize titles\n",
    "df['normalized_title'] = df['title'].apply(normalize_text)\n",
    "# Normalize titles\n",
    "df['normalized_description'] = df['adv_description'].apply(normalize_text)"
   ]
  },
  {
   "cell_type": "code",
   "execution_count": null,
   "metadata": {},
   "outputs": [],
   "source": [
    "df.head()"
   ]
  },
  {
   "cell_type": "code",
   "execution_count": null,
   "metadata": {},
   "outputs": [],
   "source": []
  },
  {
   "cell_type": "code",
   "execution_count": null,
   "metadata": {},
   "outputs": [],
   "source": []
  },
  {
   "cell_type": "code",
   "execution_count": null,
   "metadata": {},
   "outputs": [],
   "source": []
  },
  {
   "cell_type": "code",
   "execution_count": 67,
   "metadata": {},
   "outputs": [
    {
     "data": {
      "text/html": [
       "<div>\n",
       "<style scoped>\n",
       "    .dataframe tbody tr th:only-of-type {\n",
       "        vertical-align: middle;\n",
       "    }\n",
       "\n",
       "    .dataframe tbody tr th {\n",
       "        vertical-align: top;\n",
       "    }\n",
       "\n",
       "    .dataframe thead th {\n",
       "        text-align: right;\n",
       "    }\n",
       "</style>\n",
       "<table border=\"1\" class=\"dataframe\">\n",
       "  <thead>\n",
       "    <tr style=\"text-align: right;\">\n",
       "      <th></th>\n",
       "      <th>title</th>\n",
       "      <th>price</th>\n",
       "      <th>square_meters</th>\n",
       "      <th>rooms</th>\n",
       "      <th>parking</th>\n",
       "      <th>baths</th>\n",
       "      <th>location</th>\n",
       "      <th>img_url</th>\n",
       "      <th>url</th>\n",
       "      <th>adv_description</th>\n",
       "    </tr>\n",
       "  </thead>\n",
       "  <tbody>\n",
       "    <tr>\n",
       "      <th>0</th>\n",
       "      <td>Casas en venta</td>\n",
       "      <td>['Q965,000']</td>\n",
       "      <td>138.0</td>\n",
       "      <td>3.0</td>\n",
       "      <td>2.0</td>\n",
       "      <td>3.0</td>\n",
       "      <td>Villa Canales</td>\n",
       "      <td>https://photos.encuentra24.com/t_or_fh_m/f_aut...</td>\n",
       "      <td>https://www.encuentra24.com/guatemala-es/biene...</td>\n",
       "      <td>Se venden bonitas casas en Altos de Village ki...</td>\n",
       "    </tr>\n",
       "    <tr>\n",
       "      <th>1</th>\n",
       "      <td>Venta apartamento zona 10</td>\n",
       "      <td>['Q560,000']</td>\n",
       "      <td>23.0</td>\n",
       "      <td>1.0</td>\n",
       "      <td>NaN</td>\n",
       "      <td>1.0</td>\n",
       "      <td>Zona 10</td>\n",
       "      <td>https://photos.encuentra24.com/t_or_fh_m/f_aut...</td>\n",
       "      <td>https://www.encuentra24.com/guatemala-es/biene...</td>\n",
       "      <td>Precio de venta: Q.560,000   Mantenimiento: Q....</td>\n",
       "    </tr>\n",
       "    <tr>\n",
       "      <th>2</th>\n",
       "      <td>Casa en venta el Residenciales Lo de Valdez</td>\n",
       "      <td>['Q1,200,000']</td>\n",
       "      <td>320.0</td>\n",
       "      <td>4.0</td>\n",
       "      <td>3.0</td>\n",
       "      <td>3.0</td>\n",
       "      <td>San José Pinula</td>\n",
       "      <td>https://photos.encuentra24.com/t_or_fh_m/f_aut...</td>\n",
       "      <td>https://www.encuentra24.com/guatemala-es/biene...</td>\n",
       "      <td>Casa en venta Residenciales A lo de Valdez, km...</td>\n",
       "    </tr>\n",
       "    <tr>\n",
       "      <th>3</th>\n",
       "      <td>Vendo Casa para estrenar 4 habitaciones km 14...</td>\n",
       "      <td>['$229,000']</td>\n",
       "      <td>256.0</td>\n",
       "      <td>4.0</td>\n",
       "      <td>2.0</td>\n",
       "      <td>3.0</td>\n",
       "      <td>Santa Catarina Pinula</td>\n",
       "      <td>https://photos.encuentra24.com/t_or_fh_m/f_aut...</td>\n",
       "      <td>https://www.encuentra24.com/guatemala-es/biene...</td>\n",
       "      <td>Preciosas Casa de 4 Habitaciones en desniveles...</td>\n",
       "    </tr>\n",
       "    <tr>\n",
       "      <th>4</th>\n",
       "      <td>Apartamentos en venta Cendana zona 9</td>\n",
       "      <td>['Q1,159,541']</td>\n",
       "      <td>77.0</td>\n",
       "      <td>2.0</td>\n",
       "      <td>1.0</td>\n",
       "      <td>2.0</td>\n",
       "      <td>Zona 9</td>\n",
       "      <td>https://photos.encuentra24.com/t_or_fh_m/f_aut...</td>\n",
       "      <td>https://www.encuentra24.com/guatemala-es/biene...</td>\n",
       "      <td>Apartamentos en venta de 1 y 2 habitaciones, C...</td>\n",
       "    </tr>\n",
       "  </tbody>\n",
       "</table>\n",
       "</div>"
      ],
      "text/plain": [
       "                                               title           price  \\\n",
       "0                                     Casas en venta    ['Q965,000']   \n",
       "1                          Venta apartamento zona 10    ['Q560,000']   \n",
       "2        Casa en venta el Residenciales Lo de Valdez  ['Q1,200,000']   \n",
       "3   Vendo Casa para estrenar 4 habitaciones km 14...    ['$229,000']   \n",
       "4               Apartamentos en venta Cendana zona 9  ['Q1,159,541']   \n",
       "\n",
       "   square_meters  rooms  parking  baths               location  \\\n",
       "0          138.0    3.0      2.0    3.0          Villa Canales   \n",
       "1           23.0    1.0      NaN    1.0                Zona 10   \n",
       "2          320.0    4.0      3.0    3.0        San José Pinula   \n",
       "3          256.0    4.0      2.0    3.0  Santa Catarina Pinula   \n",
       "4           77.0    2.0      1.0    2.0                 Zona 9   \n",
       "\n",
       "                                             img_url  \\\n",
       "0  https://photos.encuentra24.com/t_or_fh_m/f_aut...   \n",
       "1  https://photos.encuentra24.com/t_or_fh_m/f_aut...   \n",
       "2  https://photos.encuentra24.com/t_or_fh_m/f_aut...   \n",
       "3  https://photos.encuentra24.com/t_or_fh_m/f_aut...   \n",
       "4  https://photos.encuentra24.com/t_or_fh_m/f_aut...   \n",
       "\n",
       "                                                 url  \\\n",
       "0  https://www.encuentra24.com/guatemala-es/biene...   \n",
       "1  https://www.encuentra24.com/guatemala-es/biene...   \n",
       "2  https://www.encuentra24.com/guatemala-es/biene...   \n",
       "3  https://www.encuentra24.com/guatemala-es/biene...   \n",
       "4  https://www.encuentra24.com/guatemala-es/biene...   \n",
       "\n",
       "                                     adv_description  \n",
       "0  Se venden bonitas casas en Altos de Village ki...  \n",
       "1  Precio de venta: Q.560,000   Mantenimiento: Q....  \n",
       "2  Casa en venta Residenciales A lo de Valdez, km...  \n",
       "3  Preciosas Casa de 4 Habitaciones en desniveles...  \n",
       "4  Apartamentos en venta de 1 y 2 habitaciones, C...  "
      ]
     },
     "execution_count": 67,
     "metadata": {},
     "output_type": "execute_result"
    }
   ],
   "source": [
    "df.head()"
   ]
  },
  {
   "cell_type": "code",
   "execution_count": null,
   "metadata": {},
   "outputs": [],
   "source": []
  },
  {
   "cell_type": "code",
   "execution_count": null,
   "metadata": {},
   "outputs": [],
   "source": []
  },
  {
   "cell_type": "code",
   "execution_count": null,
   "metadata": {},
   "outputs": [],
   "source": []
  },
  {
   "cell_type": "code",
   "execution_count": null,
   "metadata": {},
   "outputs": [],
   "source": []
  },
  {
   "cell_type": "code",
   "execution_count": null,
   "metadata": {},
   "outputs": [],
   "source": []
  },
  {
   "cell_type": "code",
   "execution_count": null,
   "metadata": {},
   "outputs": [],
   "source": []
  },
  {
   "cell_type": "code",
   "execution_count": null,
   "metadata": {},
   "outputs": [],
   "source": []
  },
  {
   "cell_type": "code",
   "execution_count": null,
   "metadata": {},
   "outputs": [],
   "source": []
  },
  {
   "cell_type": "code",
   "execution_count": null,
   "metadata": {},
   "outputs": [],
   "source": []
  },
  {
   "cell_type": "code",
   "execution_count": null,
   "metadata": {},
   "outputs": [],
   "source": []
  },
  {
   "cell_type": "code",
   "execution_count": null,
   "metadata": {},
   "outputs": [],
   "source": []
  }
 ],
 "metadata": {
  "kernelspec": {
   "display_name": "Python 3",
   "language": "python",
   "name": "python3"
  },
  "language_info": {
   "codemirror_mode": {
    "name": "ipython",
    "version": 3
   },
   "file_extension": ".py",
   "mimetype": "text/x-python",
   "name": "python",
   "nbconvert_exporter": "python",
   "pygments_lexer": "ipython3",
   "version": "3.12.4"
  }
 },
 "nbformat": 4,
 "nbformat_minor": 2
}
