{
 "cells": [
  {
   "cell_type": "markdown",
   "metadata": {},
   "source": [
    "### Import libraries"
   ]
  },
  {
   "cell_type": "code",
   "execution_count": 1,
   "metadata": {},
   "outputs": [],
   "source": [
    "import pandas as pd\n",
    "from fuzzywuzzy import fuzz\n",
    "import unidecode\n",
    "import re\n",
    "import os"
   ]
  },
  {
   "cell_type": "markdown",
   "metadata": {},
   "source": [
    "### Upload preclean Data Frame and Keywords file."
   ]
  },
  {
   "cell_type": "code",
   "execution_count": 2,
   "metadata": {},
   "outputs": [],
   "source": [
    "# 1) Upload CSV file containing scraped clean data (data_cleaning.ipynb) and upload keywords for filter 1 and 2.\n",
    "\n",
    "# Specifies directory path where the Excel files are located.\n",
    "directory_ads = r'C:\\Users\\DAV\\Documents\\Python\\Python_Project\\House_price_project\\data\\raw'  \n",
    "\n",
    "directory_keywords = r'C:\\Users\\DAV\\Documents\\Python\\Python_Project\\House_price_project'  \n",
    "\n",
    "# Define files name.\n",
    "ads_file = 'pre-clean.csv'  \n",
    "keywords_file = 'key_words.xlsx'  \n",
    "\n",
    "# Build full file paths.\n",
    "ads_file_path = os.path.join(directory_ads, ads_file)\n",
    "keywords_file_path = os.path.join(directory_keywords, keywords_file)\n",
    "\n",
    "# Load ad data.\n",
    "df = pd.read_csv(ads_file_path, dtype=str)\n",
    "\n",
    "# Load keyword data.\n",
    "xls = pd.ExcelFile(keywords_file_path)\n",
    "\n",
    "# Load each sheet into a separate DataFrame (filter 1 and 2).\n",
    "keywords_df = pd.read_excel(xls, 'keywords')\n",
    "municipios_filter_2_df = pd.read_excel(xls, 'municipios_filter_2')\n",
    "\n",
    "# Convert municipalities column to a list.\n",
    "municipios_filter_2 = municipios_filter_2_df['municipio'].tolist()"
   ]
  },
  {
   "cell_type": "code",
   "execution_count": 3,
   "metadata": {},
   "outputs": [],
   "source": [
    "# 2) Add empty columns for keyword, municipality and zone.\n",
    "df['keyword'] = None\n",
    "df['municipality'] = None\n",
    "df['zone'] = None"
   ]
  },
  {
   "cell_type": "markdown",
   "metadata": {},
   "source": [
    "### First Filter Function"
   ]
  },
  {
   "cell_type": "code",
   "execution_count": 4,
   "metadata": {},
   "outputs": [],
   "source": [
    "# 3) First Filter Function. \n",
    "def filter_1(ads_df, keywords_df):\n",
    "\n",
    "# First filter: Search for matches using keyword list.\n",
    "    for index, row in ads_df.iterrows():\n",
    "        title = row['title_normalized']\n",
    "        for _, keyword_row in keywords_df.iterrows():\n",
    "            keyword = keyword_row['keyword']\n",
    "            # Use fuzzy matching but check for an exact match on the keyword.\n",
    "            if keyword in title:\n",
    "                # Only takes keyword if it is found as a full term.\n",
    "                term_pattern = r'\\b' + re.escape(keyword) + r'\\b'\n",
    "                if re.search(term_pattern, title):\n",
    "                    ads_df.at[index, 'keyword'] = keyword_row['keyword']\n",
    "                    ads_df.at[index, 'municipality'] = keyword_row['municipality']\n",
    "                    # Specific change: Convert zone to text without decimals.\n",
    "                    if pd.notna(keyword_row['zone']):\n",
    "                        ads_df.at[index, 'zone'] = str(int(float(keyword_row['zone'])))\n",
    "\n",
    "                    break  # Exit loop if we find a match.\n",
    "\n",
    "    # Make sure only ads with keywords go to the result.\n",
    "    filter_1_results = ads_df[ads_df['keyword'].notnull()]\n",
    "\n",
    "# Run filter 1.\n",
    "filter_1(df, keywords_df)"
   ]
  },
  {
   "cell_type": "markdown",
   "metadata": {},
   "source": [
    "### Second Filter Function"
   ]
  },
  {
   "cell_type": "code",
   "execution_count": 5,
   "metadata": {},
   "outputs": [],
   "source": [
    "# 4) Second Filter Function\n",
    "def filter_2(ads_df, municipality_filter_2):\n",
    "    # Ads filter: found no matches in filter 1 (keyword = None).\n",
    "    without_keyword_df = ads_df[ads_df['keyword'].isnull()].copy()\n",
    "\n",
    "# Second filter: apply filter using municipalities.\n",
    "    for index, row in without_keyword_df.iterrows():\n",
    "        found_municipality = None\n",
    "\n",
    "        # Search for a match with municipality.\n",
    "        for municipality in municipality_filter_2:\n",
    "            similarity = fuzz.token_set_ratio(row['title_normalized'], municipality)\n",
    "            if similarity >= 85:\n",
    "                found_municipality = municipality\n",
    "                ads_df.at[index, 'municipality'] = found_municipality\n",
    "                break\n",
    "\n",
    "        # Detect zones.\n",
    "        found_zone_search = re.compile(r'\\b(?:zona\\s*(\\d{1,2})|z\\.\\s*(\\d{1,2})|z\\s*(\\d{1,2}))\\b', re.IGNORECASE)\n",
    "        zones_found = found_zone_search.findall(row['title_normalized'])\n",
    "\n",
    "        if zones_found:\n",
    "            found_zone = zones_found[0][0] or zones_found[0][1] or zones_found[0][2]\n",
    "            ads_df.at[index, 'zone'] = f\"{found_zone}\"\n",
    "\n",
    "            # Specific allocation for Guatemala City (only when area is mentioned).\n",
    "            if not found_municipality:\n",
    "                ads_df.at[index, 'municipality'] = 'guatemala city'\n",
    "\n",
    "        # Assign keyword if municipality was found.\n",
    "        if found_municipality:\n",
    "            ads_df.at[index, 'keyword'] = found_municipality  # Usar el municipio como keyword\n",
    "        elif not found_municipality and zones_found:\n",
    "            ads_df.at[index, 'keyword'] = 'guatemala city'\n",
    "\n",
    "    # Filter the first and second filter results. \n",
    "    filter_2_results = ads_df[ads_df['keyword'].notnull() | ads_df['municipality'].notnull()]\n",
    "\n",
    "# Run filter 2.\n",
    "filter_2(df, municipios_filter_2)"
   ]
  },
  {
   "cell_type": "markdown",
   "metadata": {},
   "source": [
    "### Third Filter Function"
   ]
  },
  {
   "cell_type": "code",
   "execution_count": 6,
   "metadata": {},
   "outputs": [],
   "source": [
    "# 5) Ads filter that didn't find matches in filters 1 and 2 (municipality = None).\n",
    "without_keyword_municipality_df = df[(df['keyword'].isnull()) & (df['municipality'].isnull())].copy()\n",
    "\n",
    "# Specific keywords related to municipalities on Carretera a El Salvador.\n",
    "carretera_el_salvador_keywords = [\"carretera a el salvador\", \"caes\", \"c.a.e.s.\", \"ces\", \"csalvador\", \"c salvador\", \"ruta a el salvador\", \"carretera salvador\", \"carretera el salvador\"]\n",
    "\n",
    "# Evaluate ads for filter 3.\n",
    "for index, row in without_keyword_municipality_df.iterrows():\n",
    "    found_keyword = None\n",
    "    found_municipality = None\n",
    "\n",
    "    # Check if a 'km number' exists.\n",
    "    km_match = re.search(r'km\\s*([\\d.]+)', row['title_normalized'], re.IGNORECASE)\n",
    "    if km_match:\n",
    "        km_value = float(km_match.group(1))\n",
    "        if km_value < 16:\n",
    "            found_municipality = 'santa catarina pinula'\n",
    "        elif 16 <= km_value < 18:\n",
    "            found_municipality = 'fraijanes'\n",
    "        elif 18 <= km_value < 24:\n",
    "            found_municipality = 'san jose pinula'\n",
    "        elif km_value >= 24:\n",
    "            found_municipality = 'villa canales'\n",
    "\n",
    "    # Check match for specific keywords in title.\n",
    "    for keyword in carretera_el_salvador_keywords:\n",
    "        if keyword in row['title_normalized']:\n",
    "            found_keyword = 'carretera a el salvador'\n",
    "            break\n",
    "    \n",
    "    # Verify coincidence with municipalities.\n",
    "    for municipio in [\"santa catarina pinula\", \"fraijanes\", \"san jose pinula\", \"villa canales\"]:\n",
    "        if municipio in row['title_normalized']:\n",
    "            found_keyword = municipio\n",
    "            found_municipality = municipio\n",
    "\n",
    "    # Assign and mark results\n",
    "    if found_municipality and found_keyword == None:\n",
    "        found_keyword = found_municipality\n",
    "    \n",
    "    df.at[index, 'keyword'] = found_keyword if found_keyword else 'unknown'\n",
    "    df.at[index, 'municipality'] = found_municipality if found_municipality else 'unknown'\n",
    "\n",
    "# Filter final: filter results and those without keyword or municipality.\n",
    "filter_3_results = df[(df['keyword'] != 'unknown') | (df['municipality'] != 'unknown')]\n",
    "without_keyword_final = df[(df['keyword'] == 'unknown') & (df['municipality'].isnull())]"
   ]
  },
  {
   "cell_type": "markdown",
   "metadata": {},
   "source": [
    "### Determine Property Type (House or Apartment)"
   ]
  },
  {
   "cell_type": "code",
   "execution_count": 7,
   "metadata": {},
   "outputs": [],
   "source": [
    "# 6) Keyword lists to identify houses and apartments.\n",
    "house_keywords = ['casa', 'vivienda', 'chalet', 'townhouse']\n",
    "apartment_keywords = ['apartamento', 'departamento', 'torre', 'apto', 'loft', 'edificio']\n",
    "\n",
    "def determine_property_type(title, description):\n",
    "    # Make sure title and description are text strings.\n",
    "    title = str(title) if title is not None else ''\n",
    "    description = str(description) if description is not None else ''\n",
    "\n",
    "    # Join title and description into a single string.\n",
    "    text = (title + \" \" + description).lower()\n",
    "    \n",
    "    # Search for house keywords.\n",
    "    if any(word in text for word in house_keywords):\n",
    "        return 'house'\n",
    "    \n",
    "    # We search for apartment keywords.\n",
    "    if any(word in text for word in apartment_keywords):\n",
    "        return 'apartament'\n",
    "    \n",
    "    # If no property type is found.\n",
    "    return 'unknown'\n",
    "\n",
    "# Reapply function to DataFrame.\n",
    "df.loc[:,'type'] = df.apply(lambda row: determine_property_type(row['title_normalized'], row['description_normalized']), axis=1)\n",
    "\n",
    "# Filter rows ('unknown') in 'type' column.\n",
    "df = df[df['type'] != 'unknown']"
   ]
  },
  {
   "cell_type": "markdown",
   "metadata": {},
   "source": [
    "### Delete 'unknown' values in 'Municipality' column."
   ]
  },
  {
   "cell_type": "code",
   "execution_count": 8,
   "metadata": {},
   "outputs": [],
   "source": [
    "# 7) Delete rows where column 'Municipality' has 'unknown' value.\n",
    "\n",
    "# Filter rows ('unknown') in 'type' column.\n",
    "df = df[df['municipality'] != 'unknown']"
   ]
  },
  {
   "cell_type": "code",
   "execution_count": 9,
   "metadata": {},
   "outputs": [],
   "source": [
    "# 8) Fill 'NaN' values in 'zone' with 'Not Specified'\n",
    "df['zone'] = df['zone'].fillna('not specified')"
   ]
  },
  {
   "cell_type": "markdown",
   "metadata": {},
   "source": [
    "### Save Clean Data Frame (CSV file)"
   ]
  },
  {
   "cell_type": "code",
   "execution_count": 10,
   "metadata": {},
   "outputs": [],
   "source": [
    "# 9) Save Clean Data.\n",
    "\n",
    "# Specify directory path.\n",
    "directory = 'C:\\\\Users\\\\DAV\\\\Documents\\\\Python\\\\Python_Project\\\\House_price_project\\\\data\\\\clean\\\\'\n",
    "\n",
    "# Define the file name.\n",
    "filename = 'clean-data.csv'\n",
    "\n",
    "# Build full file path.\n",
    "output_path = directory + filename\n",
    "\n",
    "# Save DataFrame to an CSV file in the specified directory.\n",
    "df.to_csv(output_path, index=False)"
   ]
  }
 ],
 "metadata": {
  "kernelspec": {
   "display_name": "Python 3",
   "language": "python",
   "name": "python3"
  },
  "language_info": {
   "codemirror_mode": {
    "name": "ipython",
    "version": 3
   },
   "file_extension": ".py",
   "mimetype": "text/x-python",
   "name": "python",
   "nbconvert_exporter": "python",
   "pygments_lexer": "ipython3",
   "version": "3.12.5"
  }
 },
 "nbformat": 4,
 "nbformat_minor": 2
}
