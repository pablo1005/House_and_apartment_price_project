{
 "cells": [
  {
   "cell_type": "code",
   "execution_count": 9,
   "metadata": {},
   "outputs": [],
   "source": [
    "# 1) Importing libraries\n",
    "from selenium import webdriver # Web browser automation for web scraping and automated testing.\n",
    "from selenium.webdriver.firefox.service import Service # Browser Service Control for Selenium.\n",
    "from webdriver_manager.firefox import GeckoDriverManager # Automatic Firefox driver management for Selenium.\n",
    "from selenium.webdriver.firefox.options import Options as FirefoxOptions\n",
    "\n",
    "from selenium.webdriver.firefox.options import Options as FirefoxOptions\n",
    "from selenium.webdriver.common.by import By\n",
    "from selenium.webdriver.support.ui import WebDriverWait\n",
    "from selenium.webdriver.support import expected_conditions as EC\n",
    "\n",
    "from bs4 import BeautifulSoup # HTML document analysis  for web scraping.\n",
    "\n",
    "import time\n",
    "\n",
    "import re"
   ]
  },
  {
   "cell_type": "code",
   "execution_count": 2,
   "metadata": {},
   "outputs": [],
   "source": [
    "# 2) Set houses and apartments price range\n",
    "lower_price = 400000\n",
    "upper_price = 2000000"
   ]
  },
  {
   "cell_type": "code",
   "execution_count": 3,
   "metadata": {},
   "outputs": [],
   "source": [
    "# 3) Web page URL from which the data will be extracted \n",
    "def get_page_url(page_number,rango_i,rango_s):\n",
    "    \n",
    "    base_page_url = \"https://www.encuentra24.com/guatemala-es/bienes-raices-venta-de-propiedades-casas/guatemala-es-guatemala.{}?q=f_price.{}-{}|f_currency.GTQ|withcat.bienes-raices-venta-de-propiedades-casas,bienes-raices-venta-de-propiedades-apartamentos\".format(page_number,rango_i,rango_s)\n",
    "    \n",
    "    return base_page_url"
   ]
  },
  {
   "cell_type": "code",
   "execution_count": 4,
   "metadata": {},
   "outputs": [],
   "source": [
    "# 3) Create a driver object representing an automatically controlled Firefox web browser.\n",
    "driver = webdriver.Firefox()\n",
    "# Browser window maximize.\n",
    "driver.maximize_window()\n",
    "# Go to the page want to Scrape.\n",
    "driver.get(get_page_url(1,lower_price,upper_price))\n",
    "# Pause to ensure completely page loads. \n",
    "time.sleep(5)\n",
    "# Get HTML code from loaded page.\n",
    "html_code = driver.page_source\n",
    "# Parse HTML with BeautifulSoup.\n",
    "soup = BeautifulSoup(html_code, 'html.parser')"
   ]
  },
  {
   "cell_type": "code",
   "execution_count": 10,
   "metadata": {},
   "outputs": [],
   "source": [
    "def div_html_to_obj(house_div):\n",
    "    # We first try to find \"data-original\" attribute for the image, if it does not exist, we look for \"src\".\n",
    "    try:\n",
    "        img_url = house_div.find(\"img\")['data-original']\n",
    "    except:\n",
    "        img_url = house_div.find(\"img\")['src']  \n",
    "    \n",
    "    # Extract ad location.\n",
    "    location = house_div.find(class_='d3-ad-tile__location').text.strip()\n",
    "    \n",
    "    # Extract ad title.\n",
    "    title = house_div.find(class_='d3-ad-tile__title').text\n",
    "    \n",
    "    # Get the element that contains price.\n",
    "    price_dirt = house_div.find(class_=\"d3-ad-tile__price\").text\n",
    "    \n",
    "    # Define a regular expression to extract main price.\n",
    "    price_regex = r'([Q$]\\d[\\d,.]+)'\n",
    "    \n",
    "    # Finding price using regular expressions.\n",
    "    original_price = re.findall(price_regex, price_dirt)\n",
    "    \n",
    "    # Get ad attributes text (details).\n",
    "    attributes = house_div.find(class_='d3-ad-tile__details').find_all('li', class_='d3-ad-tile__details-item')\n",
    "    \n",
    "    # Initialize variables for square meters, rooms, parking spaces and bathrooms.\n",
    "    square_meters = None\n",
    "    rooms = None\n",
    "    parking = None\n",
    "    baths = None\n",
    "    \n",
    "    # Iterate over details to extract information.\n",
    "    for attribute in attributes:\n",
    "        icon = attribute.find('svg', class_='d3-icon d3-ad-tile__icon')\n",
    "        value = attribute.text.strip()\n",
    "        \n",
    "        # If find a corresponding icon, we identify the type of detail.\n",
    "        if icon:\n",
    "            icon_use = icon.find('use').get('xlink:href')\n",
    "            \n",
    "            # Compare icon with known types to extract corresponding information.\n",
    "            if 'resize' in icon_use:  # Square meters\n",
    "                square_meters = int(re.search(r'\\d+', value).group())\n",
    "            elif 'bed' in icon_use:  # Rooms\n",
    "                rooms = int(value)\n",
    "            elif 'parking' in icon_use:  # Parking\n",
    "                parking = int(value)\n",
    "            elif 'bath' in icon_use:  # Baths\n",
    "                baths = int(value)\n",
    "    \n",
    "    # Build full ad URL.\n",
    "    url = 'https://www.encuentra24.com' + house_div.find(\"a\")[\"href\"]\n",
    "    \n",
    "    # Return a dictionary with all extracted information.\n",
    "    return {\n",
    "        \"title\": title,\n",
    "        \"price\": original_price,\n",
    "        \"square_meters\": square_meters,\n",
    "        \"rooms\": rooms,\n",
    "        \"parking\": parking,\n",
    "        \"baths\": baths,\n",
    "        \"location\": location,\n",
    "        \"img_url\": img_url,\n",
    "        \"url\": url\n",
    "    }"
   ]
  },
  {
   "cell_type": "code",
   "execution_count": null,
   "metadata": {},
   "outputs": [],
   "source": []
  },
  {
   "cell_type": "code",
   "execution_count": null,
   "metadata": {},
   "outputs": [],
   "source": []
  },
  {
   "cell_type": "code",
   "execution_count": null,
   "metadata": {},
   "outputs": [],
   "source": []
  },
  {
   "cell_type": "code",
   "execution_count": null,
   "metadata": {},
   "outputs": [],
   "source": []
  },
  {
   "cell_type": "code",
   "execution_count": null,
   "metadata": {},
   "outputs": [],
   "source": []
  },
  {
   "cell_type": "code",
   "execution_count": null,
   "metadata": {},
   "outputs": [],
   "source": []
  },
  {
   "cell_type": "code",
   "execution_count": null,
   "metadata": {},
   "outputs": [],
   "source": []
  },
  {
   "cell_type": "code",
   "execution_count": null,
   "metadata": {},
   "outputs": [],
   "source": []
  },
  {
   "cell_type": "code",
   "execution_count": null,
   "metadata": {},
   "outputs": [],
   "source": []
  },
  {
   "cell_type": "code",
   "execution_count": null,
   "metadata": {},
   "outputs": [],
   "source": []
  },
  {
   "cell_type": "code",
   "execution_count": null,
   "metadata": {},
   "outputs": [],
   "source": []
  },
  {
   "cell_type": "code",
   "execution_count": null,
   "metadata": {},
   "outputs": [],
   "source": []
  },
  {
   "cell_type": "code",
   "execution_count": null,
   "metadata": {},
   "outputs": [],
   "source": []
  },
  {
   "cell_type": "code",
   "execution_count": null,
   "metadata": {},
   "outputs": [],
   "source": []
  },
  {
   "cell_type": "code",
   "execution_count": null,
   "metadata": {},
   "outputs": [],
   "source": []
  },
  {
   "cell_type": "code",
   "execution_count": null,
   "metadata": {},
   "outputs": [],
   "source": []
  },
  {
   "cell_type": "code",
   "execution_count": null,
   "metadata": {},
   "outputs": [],
   "source": []
  },
  {
   "cell_type": "code",
   "execution_count": null,
   "metadata": {},
   "outputs": [],
   "source": []
  },
  {
   "cell_type": "code",
   "execution_count": null,
   "metadata": {},
   "outputs": [],
   "source": []
  },
  {
   "cell_type": "code",
   "execution_count": null,
   "metadata": {},
   "outputs": [],
   "source": []
  },
  {
   "cell_type": "code",
   "execution_count": null,
   "metadata": {},
   "outputs": [],
   "source": []
  },
  {
   "cell_type": "code",
   "execution_count": null,
   "metadata": {},
   "outputs": [],
   "source": []
  },
  {
   "cell_type": "code",
   "execution_count": null,
   "metadata": {},
   "outputs": [],
   "source": []
  }
 ],
 "metadata": {
  "kernelspec": {
   "display_name": "Python 3",
   "language": "python",
   "name": "python3"
  },
  "language_info": {
   "codemirror_mode": {
    "name": "ipython",
    "version": 3
   },
   "file_extension": ".py",
   "mimetype": "text/x-python",
   "name": "python",
   "nbconvert_exporter": "python",
   "pygments_lexer": "ipython3",
   "version": "3.12.4"
  }
 },
 "nbformat": 4,
 "nbformat_minor": 2
}
